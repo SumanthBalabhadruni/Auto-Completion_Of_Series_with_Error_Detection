{
  "nbformat": 4,
  "nbformat_minor": 0,
  "metadata": {
    "colab": {
      "name": "AutoCompletion_Of_Geomentric_Series.ipynb",
      "provenance": [],
      "collapsed_sections": [],
      "toc_visible": true
    },
    "kernelspec": {
      "name": "python3",
      "display_name": "Python 3"
    },
    "language_info": {
      "name": "python"
    }
  },
  "cells": [
    {
      "cell_type": "markdown",
      "metadata": {
        "id": "Wr_zDmusmWpB"
      },
      "source": [
        "# Create Linked List\n"
      ]
    },
    {
      "cell_type": "code",
      "metadata": {
        "id": "VU8Srdpw_Knn"
      },
      "source": [
        "# Create nodes\n",
        "# Create Linked List\n",
        "# Add nodes to linked List\n",
        "# print Linked List\n",
        "class Node:\n",
        "    def __init__(self, data):\n",
        "        self.data = data\n",
        "        self.next = None\n",
        "class LinkedList:\n",
        "    def __init__(self):\n",
        "        self.head = None\n",
        "    def isListEmpty(self):\n",
        "        if self.head is None:\n",
        "            return True\n",
        "        else:\n",
        "            return False\n",
        "    def listLength(self):\n",
        "        currentNode = self.head\n",
        "        length = 0\n",
        "        while currentNode is not None:\n",
        "            length +=1\n",
        "            currentNode = currentNode.next\n",
        "        return length\n",
        "    def insertHead(self, newNode):\n",
        "        temporaryNode = self.head \n",
        "        self.head = newNode \n",
        "        self.head.next = temporaryNode\n",
        "        del temporaryNode\n",
        "    def insertAt(self, newNode, position):\n",
        "        if position < 0 or position > self.listLength():\n",
        "            print(\"Invalid position\")\n",
        "            return\n",
        "        if position is 0:\n",
        "            self.insertHead(newNode)\n",
        "            return\n",
        "        currentNode = self.head\n",
        "        currentPosition = 0 \n",
        "        while True:\n",
        "            if currentPosition == position:\n",
        "                previousNode.next = newNode\n",
        "                newNode.next = currentNode\n",
        "                break\n",
        "            previousNode = currentNode\n",
        "            currentNode = currentNode.next\n",
        "            currentPosition += 1\n",
        "    def insertEnd(self, newNode):\n",
        "        if self.head is None:\n",
        "            self.head = newNode\n",
        "        else:\n",
        "            lastNode = self.head\n",
        "            while True:\n",
        "                if lastNode.next is None:\n",
        "                    break\n",
        "                lastNode = lastNode.next\n",
        "            lastNode.next = newNode\n",
        "    def deleteHead(self):\n",
        "        if self.isListEmpty() is False:\n",
        "            previousHead = self.head\n",
        "            self.head = self.head.next\n",
        "            previousHead.next = None\n",
        "        else:\n",
        "            print(\"Linked list is empty. Delete failed\")\n",
        "    def deleteAt(self, position):\n",
        "        if position < 0 or position >= self.listLength():\n",
        "            print(\"Invalid position\")\n",
        "            return\n",
        "        if self.isListEmpty() is False:\n",
        "            if position is 0:\n",
        "                self.deleteHead()\n",
        "                return\n",
        "            currentNode = self.head\n",
        "            currentPosition = 0\n",
        "            while True:\n",
        "                if currentPosition == position:\n",
        "                    previousNode.next = currentNode.next\n",
        "                    currentNode.next = None\n",
        "                    break\n",
        "                previousNode = currentNode\n",
        "                currentNode = currentNode.next\n",
        "                currentPosition += 1\n",
        "    def deleteEnd(self):\n",
        "        if self.isListEmpty() is False:\n",
        "            if self.head.next is None:\n",
        "                self.deleteHead()\n",
        "                return\n",
        "            lastNode = self.head\n",
        "            while lastNode.next is not None:\n",
        "                previousNode = lastNode\n",
        "                lastNode = lastNode.next\n",
        "            previousNode.next = None\n",
        "        else:\n",
        "            print(\"Linked list is empty. Delete failed\")\n",
        "    def printList(self):\n",
        "        if self.head is None:\n",
        "            print(\"List is empty\")\n",
        "            return\n",
        "        currentNode = self.head\n",
        "        while True:\n",
        "            if currentNode is None:\n",
        "##                print(\"None\")\n",
        "                break\n",
        "            print(currentNode.data, end=' ')\n",
        "            currentNode = currentNode.next\n",
        "\n",
        "    def removeDuplicate(self):  \n",
        "        #Node current will point to head  \n",
        "        current = self.head;  \n",
        "        index = None;  \n",
        "        temp = None;  \n",
        "          \n",
        "        if(self.head == None):  \n",
        "            return;  \n",
        "        else:  \n",
        "            while(current != None):  \n",
        "                #Node temp will point to previous node to index.  \n",
        "                temp = current;  \n",
        "                #Index will point to node next to current  \n",
        "                index = current.next;  \n",
        "                  \n",
        "                while(index != None):  \n",
        "                    #If current node's data is equal to index node's data  \n",
        "                    if(current.data == index.data):  \n",
        "                        #Here, index node is pointing to the node which is duplicate of current node  \n",
        "                        #Skips the duplicate node by pointing to next node  \n",
        "                        temp.next = index.next;  \n",
        "                    else:  \n",
        "                        #Temp will point to previous node of index.  \n",
        "                        temp = index;  \n",
        "                    index = index.next;  \n",
        "                current = current.next;     \n",
        "\n",
        "\n",
        "    def sorting(self):  \n",
        "        #Node current will point to head  \n",
        "        current = self.head;  \n",
        "        index = None;  \n",
        "          \n",
        "        if(self.head == None):  \n",
        "            return;  \n",
        "        else:  \n",
        "            while(current != None):  \n",
        "                #Node index will point to node next to current  \n",
        "                index = current.next;  \n",
        "                  \n",
        "                while(index != None):  \n",
        "    #If current node's data is greater than index's node data, swap the data between them  \n",
        "                    if(current.data > index.data):  \n",
        "                        temp = current.data;  \n",
        "                        current.data = index.data;  \n",
        "                        index.data = temp;  \n",
        "                    index = index.next;  \n",
        "                current = current.next;  \n",
        "      "
      ],
      "execution_count": 22,
      "outputs": []
    },
    {
      "cell_type": "markdown",
      "metadata": {
        "id": "vZPdSOygl6vp"
      },
      "source": [
        "# Remove Duplicates\n"
      ]
    },
    {
      "cell_type": "markdown",
      "metadata": {
        "id": "AMDtfFkJmJUc"
      },
      "source": [
        "# Sorting\n",
        "\n"
      ]
    },
    {
      "cell_type": "markdown",
      "metadata": {
        "id": "pooRDNZ06vun"
      },
      "source": [
        "# Mode\n"
      ]
    },
    {
      "cell_type": "code",
      "metadata": {
        "id": "efk8ilyN4oAy"
      },
      "source": [
        "def Mode(c_r_originalarray):\n",
        "  n=len(c_r_originalarray)\n",
        "  maxx_1=-10\n",
        "  out=0\n",
        "  max_1_element=0\n",
        "  for i in range(n):\n",
        "    out=0\n",
        "    for j in range(i,n):\n",
        "      if c_r_originalarray[i]==c_r_originalarray[j]:\n",
        "        out+=1\n",
        "    if out>maxx_1:\n",
        "      maxx_1=out\n",
        "      max_1_element=c_r_originalarray[i]\n",
        "  output=[maxx_1,max_1_element]\n",
        "  return max_1_element"
      ],
      "execution_count": 23,
      "outputs": []
    },
    {
      "cell_type": "markdown",
      "metadata": {
        "id": "RkqasDhIoyKf"
      },
      "source": [
        "# Declaring the linked list elements\n",
        "\n"
      ]
    },
    {
      "cell_type": "code",
      "metadata": {
        "colab": {
          "base_uri": "https://localhost:8080/"
        },
        "id": "cxEFAMcRoYxG",
        "outputId": "feb8f973-15ef-4525-d4c0-a0ae219828aa"
      },
      "source": [
        "'''s = list(map(int, input().rstrip().split()))\n",
        "linkedList=LinkedList()\n",
        "for i in range(len(s)):\n",
        "  k=Node(s[i])\n",
        "  linkedList.insertEnd(k)\n",
        "linkedList.printList()'''\n",
        "\n",
        "linkedList=LinkedList()\n",
        "while(1):\n",
        "  try:\n",
        "    k=Node(int(input()))\n",
        "    linkedList.insertEnd(k)\n",
        "    \n",
        "  except:\n",
        "    break\n",
        "print('The output:')\n",
        "linkedList.printList()"
      ],
      "execution_count": 24,
      "outputs": [
        {
          "output_type": "stream",
          "text": [
            "1\n",
            "2\n",
            "4\n",
            "8\n",
            "12\n",
            "16\n",
            "32\n",
            "\n",
            "The output:\n",
            "1 2 4 8 12 16 32 "
          ],
          "name": "stdout"
        }
      ]
    },
    {
      "cell_type": "markdown",
      "metadata": {
        "id": "vhRgFWAbrxix"
      },
      "source": [
        "\n",
        "#Removing Duplicates and Sorting of a Linked List\n"
      ]
    },
    {
      "cell_type": "code",
      "metadata": {
        "colab": {
          "base_uri": "https://localhost:8080/"
        },
        "id": "x2GuiRvb72mT",
        "outputId": "1421bc03-4582-49e9-ac0f-9182f728c7ee"
      },
      "source": [
        "linkedList.removeDuplicate()  \n",
        "linkedList.sorting()\n",
        "linkedList.printList()\n"
      ],
      "execution_count": 25,
      "outputs": [
        {
          "output_type": "stream",
          "text": [
            "1 2 4 8 12 16 32 "
          ],
          "name": "stdout"
        }
      ]
    },
    {
      "cell_type": "markdown",
      "metadata": {
        "id": "MlJy-Y5EzdDq"
      },
      "source": [
        "# Finding Common Difference"
      ]
    },
    {
      "cell_type": "code",
      "metadata": {
        "colab": {
          "base_uri": "https://localhost:8080/"
        },
        "id": "vPUsslCjoaun",
        "outputId": "de4ad1e6-12dd-4057-b21c-60b142b4be77"
      },
      "source": [
        "c_r_sortedarray=[]\n",
        "currentnode=linkedList.head\n",
        "I=0\n",
        "n=linkedList.listLength()                 \n",
        "while I<n-1:\n",
        "  k=(currentnode.next.data)/(currentnode.data)\n",
        "  c_r_sortedarray.append(k)\n",
        "  currentnode=currentnode.next\n",
        "  I+=1\n",
        "c_r=Mode(c_r_sortedarray)\n",
        "print('Common Ratio is',c_r)"
      ],
      "execution_count": 26,
      "outputs": [
        {
          "output_type": "stream",
          "text": [
            "Common Ratio is 2.0\n"
          ],
          "name": "stdout"
        }
      ]
    },
    {
      "cell_type": "markdown",
      "metadata": {
        "id": "iwPMm3CFa_3H"
      },
      "source": [
        "# Matching\n"
      ]
    },
    {
      "cell_type": "code",
      "metadata": {
        "id": "OFF6nzYtbFmX"
      },
      "source": [
        "def match(L1,L2):\n",
        "  m=L1.listLength()\n",
        "  n=len(L2)\n",
        "  matched=0                                 \n",
        "  current1=L1.head                           \n",
        "##  current2=L2.head\n",
        "  for i in range(m):                       \n",
        "    for j in range(n):\n",
        "      if current1.data==L2[j]:\n",
        "        matched+=1\n",
        "        break\n",
        "##      current2=current2.next\n",
        "    current1=current1.next\n",
        "  return matched"
      ],
      "execution_count": 27,
      "outputs": []
    },
    {
      "cell_type": "markdown",
      "metadata": {
        "id": "jjhMrPf3sHT2"
      },
      "source": [
        "# Making Series\n"
      ]
    },
    {
      "cell_type": "code",
      "metadata": {
        "colab": {
          "base_uri": "https://localhost:8080/"
        },
        "id": "D0DOr1ResMc2",
        "outputId": "03764a73-f7cf-4bae-f99f-bc7db47f3bdc"
      },
      "source": [
        "def making_series(L,c_r):\n",
        "  updated=[]\n",
        "  new=[]\n",
        "  maxx=-10\n",
        "  n=L.listLength()\n",
        "  current=L.head\n",
        "  for i in range(n):\n",
        "    new.clear()\n",
        "    for j in range(n):\n",
        "      l=current.data *pow(c_r,(j-i))\n",
        "      new.append(l) \n",
        "    p=match(L,new)  \n",
        "    if (p>maxx):\n",
        "      updated.clear()\n",
        "      for i in range(len(new)):\n",
        "        updated.append(int(new[i]))\n",
        "      maxx=p\n",
        "    current=current.next\n",
        "  return updated   \n",
        "h=making_series(linkedList,c_r)\n",
        "print(h)   "
      ],
      "execution_count": 28,
      "outputs": [
        {
          "output_type": "stream",
          "text": [
            "[1, 2, 4, 8, 16, 32, 64]\n"
          ],
          "name": "stdout"
        }
      ]
    },
    {
      "cell_type": "code",
      "metadata": {
        "id": "hmFQUK9A13L-"
      },
      "source": [
        ""
      ],
      "execution_count": 28,
      "outputs": []
    }
  ]
}