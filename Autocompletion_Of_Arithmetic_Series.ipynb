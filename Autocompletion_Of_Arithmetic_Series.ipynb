{
  "nbformat": 4,
  "nbformat_minor": 0,
  "metadata": {
    "colab": {
      "name": "Autocompletion_Of_Arithmetic_Series_updated.ipynb",
      "provenance": [],
      "toc_visible": true
    },
    "kernelspec": {
      "name": "python3",
      "display_name": "Python 3"
    },
    "language_info": {
      "name": "python"
    }
  },
  "cells": [
    {
      "cell_type": "markdown",
      "metadata": {
        "id": "Wr_zDmusmWpB"
      },
      "source": [
        "# Create Linked List\n"
      ]
    },
    {
      "cell_type": "code",
      "metadata": {
        "id": "VU8Srdpw_Knn"
      },
      "source": [
        "# Create nodes\n",
        "# Create Linked List\n",
        "# Add nodes to linked List\n",
        "# print Linked List\n",
        "class Node:\n",
        "    def __init__(self, data):\n",
        "        self.data = data\n",
        "        self.next = None\n",
        "class LinkedList:\n",
        "    def __init__(self):\n",
        "        self.head = None\n",
        "    def isListEmpty(self):\n",
        "        if self.head is None:\n",
        "            return True\n",
        "        else:\n",
        "            return False\n",
        "    def listLength(self):\n",
        "        currentNode = self.head\n",
        "        length = 0\n",
        "        while currentNode is not None:\n",
        "            length +=1\n",
        "            currentNode = currentNode.next\n",
        "        return length\n",
        "    def insertHead(self, newNode):\n",
        "        temporaryNode = self.head \n",
        "        self.head = newNode \n",
        "        self.head.next = temporaryNode\n",
        "        del temporaryNode\n",
        "    def insertAt(self, newNode, position):\n",
        "        if position < 0 or position > self.listLength():\n",
        "            print(\"Invalid position\")\n",
        "            return\n",
        "        if position is 0:\n",
        "            self.insertHead(newNode)\n",
        "            return\n",
        "        currentNode = self.head\n",
        "        currentPosition = 0 \n",
        "        while True:\n",
        "            if currentPosition == position:\n",
        "                previousNode.next = newNode\n",
        "                newNode.next = currentNode\n",
        "                break\n",
        "            previousNode = currentNode\n",
        "            currentNode = currentNode.next\n",
        "            currentPosition += 1\n",
        "    def insertEnd(self, newNode):\n",
        "        if self.head is None:\n",
        "            self.head = newNode\n",
        "        else:\n",
        "            lastNode = self.head\n",
        "            while True:\n",
        "                if lastNode.next is None:\n",
        "                    break\n",
        "                lastNode = lastNode.next\n",
        "            lastNode.next = newNode\n",
        "    def deleteHead(self):\n",
        "        if self.isListEmpty() is False:\n",
        "            previousHead = self.head\n",
        "            self.head = self.head.next\n",
        "            previousHead.next = None\n",
        "        else:\n",
        "            print(\"Linked list is empty. Delete failed\")\n",
        "    def deleteAt(self, position):\n",
        "        if position < 0 or position >= self.listLength():\n",
        "            print(\"Invalid position\")\n",
        "            return\n",
        "        if self.isListEmpty() is False:\n",
        "            if position is 0:\n",
        "                self.deleteHead()\n",
        "                return\n",
        "            currentNode = self.head\n",
        "            currentPosition = 0\n",
        "            while True:\n",
        "                if currentPosition == position:\n",
        "                    previousNode.next = currentNode.next\n",
        "                    currentNode.next = None\n",
        "                    break\n",
        "                previousNode = currentNode\n",
        "                currentNode = currentNode.next\n",
        "                currentPosition += 1\n",
        "    def deleteEnd(self):\n",
        "        if self.isListEmpty() is False:\n",
        "            if self.head.next is None:\n",
        "                self.deleteHead()\n",
        "                return\n",
        "            lastNode = self.head\n",
        "            while lastNode.next is not None:\n",
        "                previousNode = lastNode\n",
        "                lastNode = lastNode.next\n",
        "            previousNode.next = None\n",
        "        else:\n",
        "            print(\"Linked list is empty. Delete failed\")\n",
        "    def printList(self):\n",
        "        if self.head is None:\n",
        "            print(\"List is empty\")\n",
        "            return\n",
        "        currentNode = self.head\n",
        "        while True:\n",
        "            if currentNode is None:\n",
        "##                print(\"None\")\n",
        "                break\n",
        "            print(currentNode.data, end=' ')\n",
        "            currentNode = currentNode.next\n",
        "    def sorting(self):  \n",
        "        #Node current will point to head  \n",
        "        current = self.head;  \n",
        "        index = None;  \n",
        "          \n",
        "        if(self.head == None):  \n",
        "            return;  \n",
        "        else:  \n",
        "            while(current != None):  \n",
        "                #Node index will point to node next to current  \n",
        "                index = current.next;  \n",
        "                  \n",
        "                while(index != None):  \n",
        "    #If current node's data is greater than index's node data, swap the data between them  \n",
        "                    if(current.data > index.data):  \n",
        "                        temp = current.data;  \n",
        "                        current.data = index.data;  \n",
        "                        index.data = temp;  \n",
        "                    index = index.next;  \n",
        "                current = current.next;  \n",
        "      "
      ],
      "execution_count": 95,
      "outputs": []
    },
    {
      "cell_type": "markdown",
      "metadata": {
        "id": "vZPdSOygl6vp"
      },
      "source": [
        "# Remove Duplicates\n"
      ]
    },
    {
      "cell_type": "code",
      "metadata": {
        "id": "PbIYp2kyl8bO"
      },
      "source": [
        "def removeDuplicate(linkedList):\n",
        "    currentNode = linkedList.head\n",
        "    while True:\n",
        "        if currentNode.data == currentNode.next.data:\n",
        "            duplicateNode = currentNode.next\n",
        "            currentNode.next = duplicateNode.next\n",
        "            duplicateNode.next = None\n",
        "            break\n",
        "        currentNode = currentNode.next"
      ],
      "execution_count": 96,
      "outputs": []
    },
    {
      "cell_type": "markdown",
      "metadata": {
        "id": "pooRDNZ06vun"
      },
      "source": [
        "# Mode\n"
      ]
    },
    {
      "cell_type": "code",
      "metadata": {
        "id": "efk8ilyN4oAy"
      },
      "source": [
        "def Mode(c_d_originalarray):\n",
        "  n=len(c_d_originalarray)\n",
        "  maxx_1=-10\n",
        "  out=0\n",
        "  max_1_element=0\n",
        "  for i in range(n):\n",
        "    out=0\n",
        "    for j in range(i,n):\n",
        "      if c_d_originalarray[i]==c_d_originalarray[j]:\n",
        "        out+=1\n",
        "    if out>maxx_1:\n",
        "      maxx_1=out\n",
        "      max_1_element=c_d_originalarray[i]\n",
        "  output=[maxx_1,max_1_element]\n",
        "  return max_1_element"
      ],
      "execution_count": 97,
      "outputs": []
    },
    {
      "cell_type": "markdown",
      "metadata": {
        "id": "AMDtfFkJmJUc"
      },
      "source": [
        "# Sorting\n",
        "\n"
      ]
    },
    {
      "cell_type": "code",
      "metadata": {
        "id": "_957Z9U3qc1T"
      },
      "source": [
        ""
      ],
      "execution_count": 97,
      "outputs": []
    },
    {
      "cell_type": "markdown",
      "metadata": {
        "id": "RkqasDhIoyKf"
      },
      "source": [
        "# Declaring the linked list elements\n",
        "\n"
      ]
    },
    {
      "cell_type": "code",
      "metadata": {
        "colab": {
          "base_uri": "https://localhost:8080/"
        },
        "id": "cxEFAMcRoYxG",
        "outputId": "09d7c21d-d5e7-4b8f-bfd9-53dfed82afd1"
      },
      "source": [
        "node1=Node(1)\n",
        "node2=Node(8)\n",
        "node3=Node(5)\n",
        "node4=Node(7)\n",
        "node5=Node(11)\n",
        "node6=Node(13)\n",
        "node7=Node(13)\n",
        "node8=Node(16)\n",
        "node9=Node(17)\n",
        "node10=Node(18)\n",
        "node11=Node(19)\n",
        "linkedList=LinkedList()\n",
        "linkedList.insertEnd(node1)\n",
        "linkedList.insertEnd(node2)\n",
        "linkedList.insertEnd(node3)\n",
        "linkedList.insertEnd(node4)\n",
        "linkedList.insertEnd(node5)\n",
        "linkedList.insertEnd(node6)\n",
        "linkedList.insertEnd(node7)\n",
        "linkedList.insertEnd(node8)\n",
        "linkedList.insertEnd(node9)\n",
        "linkedList.insertEnd(node10)\n",
        "linkedList.insertEnd(node11)\n",
        "n=linkedList.listLength()\n",
        "print(n)\n",
        "linkedList.printList()\n"
      ],
      "execution_count": 98,
      "outputs": [
        {
          "output_type": "stream",
          "text": [
            "11\n",
            "1 8 5 7 11 13 13 16 17 18 19 "
          ],
          "name": "stdout"
        }
      ]
    },
    {
      "cell_type": "markdown",
      "metadata": {
        "id": "vhRgFWAbrxix"
      },
      "source": [
        "\n",
        "#Removing Duplicates and Sorting of a Linked List\n"
      ]
    },
    {
      "cell_type": "code",
      "metadata": {
        "colab": {
          "base_uri": "https://localhost:8080/"
        },
        "id": "x2GuiRvb72mT",
        "outputId": "428437a3-655b-4a90-914a-ce32875d2dfe"
      },
      "source": [
        "#linkedList.removeDuplicate()\n",
        "removeDuplicate(linkedList)\n",
        "linkedList.sorting()\n",
        "linkedList.printList()\n"
      ],
      "execution_count": 99,
      "outputs": [
        {
          "output_type": "stream",
          "text": [
            "1 5 7 8 11 13 16 17 18 19 "
          ],
          "name": "stdout"
        }
      ]
    },
    {
      "cell_type": "markdown",
      "metadata": {
        "id": "MlJy-Y5EzdDq"
      },
      "source": [
        "# Finding Common Difference"
      ]
    },
    {
      "cell_type": "code",
      "metadata": {
        "colab": {
          "base_uri": "https://localhost:8080/"
        },
        "id": "vPUsslCjoaun",
        "outputId": "9cd1b16e-63ed-4181-afca-ba7e7d593b86"
      },
      "source": [
        "c_d_sortedarray=[]\n",
        "currentnode=linkedList.head\n",
        "I=0\n",
        "n=linkedList.listLength()                 \n",
        "while I<n-1:\n",
        "  k=(currentnode.next.data)-(currentnode.data)\n",
        "  c_d_sortedarray.append(k)\n",
        "  currentnode=currentnode.next\n",
        "  I+=1\n",
        "c_d=Mode(c_d_sortedarray)\n",
        "print(c_d)"
      ],
      "execution_count": 100,
      "outputs": [
        {
          "output_type": "stream",
          "text": [
            "1\n"
          ],
          "name": "stdout"
        }
      ]
    },
    {
      "cell_type": "markdown",
      "metadata": {
        "id": "iwPMm3CFa_3H"
      },
      "source": [
        "# Matching\n"
      ]
    },
    {
      "cell_type": "code",
      "metadata": {
        "id": "OFF6nzYtbFmX"
      },
      "source": [
        "def match(L1,L2):\n",
        "  m=L1.listLength()\n",
        "  n=len(L2)\n",
        "  matched=0                                 \n",
        "  current1=L1.head                           \n",
        "##  current2=L2.head\n",
        "  for i in range(m):                       \n",
        "    for j in range(n):\n",
        "      if current1.data==L2[j]:\n",
        "        matched+=1\n",
        "        break\n",
        "##      current2=current2.next\n",
        "    current1=current1.next\n",
        "  return matched"
      ],
      "execution_count": 101,
      "outputs": []
    },
    {
      "cell_type": "markdown",
      "metadata": {
        "id": "jjhMrPf3sHT2"
      },
      "source": [
        "# Making Series\n"
      ]
    },
    {
      "cell_type": "code",
      "metadata": {
        "colab": {
          "base_uri": "https://localhost:8080/"
        },
        "id": "D0DOr1ResMc2",
        "outputId": "d9ca9d74-2e62-4021-cf99-d587827dee73"
      },
      "source": [
        "def making_series(L,c_d):\n",
        "  updated=[]\n",
        "  new=[]\n",
        "  maxx=-10\n",
        "  n=L.listLength()\n",
        "  current=L.head\n",
        "  for i in range(n):\n",
        "    new.clear()\n",
        "    for j in range(n):\n",
        "      l=current.data + ((j-i)*c_d)\n",
        "      new.append(l) \n",
        "    p=match(L,new)  \n",
        "    if (p>maxx):\n",
        "      updated.clear()\n",
        "      for i in range(len(new)):\n",
        "        updated.append(new[i])\n",
        "      maxx=p\n",
        "    current=current.next\n",
        "  return updated   \n",
        "h=making_series(linkedList,c_d)\n",
        "print(h)   \n"
      ],
      "execution_count": 102,
      "outputs": [
        {
          "output_type": "stream",
          "text": [
            "[10, 11, 12, 13, 14, 15, 16, 17, 18, 19]\n"
          ],
          "name": "stdout"
        }
      ]
    }
  ]
}